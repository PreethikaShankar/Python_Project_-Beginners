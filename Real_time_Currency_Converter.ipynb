{
  "nbformat": 4,
  "nbformat_minor": 0,
  "metadata": {
    "colab": {
      "name": "Real-time_Currency_Converter.ipynb",
      "private_outputs": true,
      "provenance": [],
      "collapsed_sections": [],
      "authorship_tag": "ABX9TyOf75Vj+3UG/ZXYGnJa2Uhr",
      "include_colab_link": true
    },
    "kernelspec": {
      "name": "python3",
      "display_name": "Python 3"
    }
  },
  "cells": [
    {
      "cell_type": "markdown",
      "metadata": {
        "id": "view-in-github",
        "colab_type": "text"
      },
      "source": [
        "<a href=\"https://colab.research.google.com/github/PreethikaShankar/Python_Project_-Beginners/blob/main/Real_time_Currency_Converter.ipynb\" target=\"_parent\"><img src=\"https://colab.research.google.com/assets/colab-badge.svg\" alt=\"Open In Colab\"/></a>"
      ]
    },
    {
      "cell_type": "code",
      "metadata": {
        "id": "linSDixMVl4y"
      },
      "source": [
        "from google_currency import convert \n",
        "c = CurrencyRates()\n",
        "amount = int(input(\"Enter the amount: \"))\n",
        "from_currency = input(\"From Currency: \").upper()\n",
        "to_currency = input(\"To Currency: \").upper()\n",
        "print(from_currency, \"To\", to_currency, amount)\n",
        "result = c.convert(from_currency,to_currency,amount)\n",
        "print(result)"
      ],
      "execution_count": null,
      "outputs": []
    }
  ]
}