{
  "nbformat": 4,
  "nbformat_minor": 0,
  "metadata": {
    "colab": {
      "name": "Space_Station_Location.ipynb",
      "private_outputs": true,
      "provenance": [],
      "collapsed_sections": [],
      "authorship_tag": "ABX9TyM7ZX4dWVALNBwMvM7nyRho",
      "include_colab_link": true
    },
    "kernelspec": {
      "name": "python3",
      "display_name": "Python 3"
    }
  },
  "cells": [
    {
      "cell_type": "markdown",
      "metadata": {
        "id": "view-in-github",
        "colab_type": "text"
      },
      "source": [
        "<a href=\"https://colab.research.google.com/github/PreethikaShankar/Python_Project_-Beginners/blob/main/Space_Station_Location.ipynb\" target=\"_parent\"><img src=\"https://colab.research.google.com/assets/colab-badge.svg\" alt=\"Open In Colab\"/></a>"
      ]
    },
    {
      "cell_type": "code",
      "metadata": {
        "id": "5lqMS8Zdv5Q4"
      },
      "source": [
        "import pandas as pd ## data analysis tool\n",
        "import plotly.express as px"
      ],
      "execution_count": null,
      "outputs": []
    },
    {
      "cell_type": "code",
      "metadata": {
        "id": "F2gv42eyxSLk"
      },
      "source": [
        "url = 'http://api.open-notify.org/iss-now.json'"
      ],
      "execution_count": null,
      "outputs": []
    },
    {
      "cell_type": "code",
      "metadata": {
        "id": "f8MDG2GRxtGB"
      },
      "source": [
        "df = pd.read_json(url)\n",
        "df"
      ],
      "execution_count": null,
      "outputs": []
    },
    {
      "cell_type": "code",
      "metadata": {
        "id": "hi9oZ_MKx6SX"
      },
      "source": [
        "df['latitude'] = df.loc['latitude','iss_position']\n",
        "df['longitude'] = df.loc['longitude','iss_position']\n",
        "\n",
        "df.reset_index(inplace=True)"
      ],
      "execution_count": null,
      "outputs": []
    },
    {
      "cell_type": "code",
      "metadata": {
        "id": "Hy5hC5ixyT4M"
      },
      "source": [
        "df = df.drop(['index','message'], axis=1)\n",
        "df"
      ],
      "execution_count": null,
      "outputs": []
    },
    {
      "cell_type": "code",
      "metadata": {
        "id": "aSXEQ6E0zFFv"
      },
      "source": [
        "fig = px.scatter_geo(df, lat='latitude',lon='longitude')\n",
        "\n",
        "fig.show()"
      ],
      "execution_count": null,
      "outputs": []
    }
  ]
}